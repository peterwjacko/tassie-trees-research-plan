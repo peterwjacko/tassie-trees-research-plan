{
 "cells": [
  {
   "cell_type": "code",
   "execution_count": 18,
   "metadata": {},
   "outputs": [],
   "source": [
    "from pathlib import Path\n",
    "\n",
    "import galah\n",
    "import geopandas as gpd\n"
   ]
  },
  {
   "cell_type": "code",
   "execution_count": 19,
   "metadata": {},
   "outputs": [],
   "source": [
    "galah.galah_config(\n",
    "    email=\"ala.italics539@simplelogin.com\",\n",
    "    atlas=\"Australia\",\n",
    ")"
   ]
  },
  {
   "cell_type": "code",
   "execution_count": 20,
   "metadata": {},
   "outputs": [
    {
     "data": {
      "application/vnd.microsoft.datawrangler.viewer.v0+json": {
       "columns": [
        {
         "name": "index",
         "rawType": "int64",
         "type": "integer"
        },
        {
         "name": "scientificName",
         "rawType": "object",
         "type": "string"
        },
        {
         "name": "scientificNameAuthorship",
         "rawType": "object",
         "type": "string"
        },
        {
         "name": "taxonConceptID",
         "rawType": "object",
         "type": "string"
        },
        {
         "name": "rank",
         "rawType": "object",
         "type": "string"
        },
        {
         "name": "kingdom",
         "rawType": "object",
         "type": "string"
        },
        {
         "name": "phylum",
         "rawType": "object",
         "type": "string"
        },
        {
         "name": "order",
         "rawType": "object",
         "type": "string"
        },
        {
         "name": "family",
         "rawType": "object",
         "type": "string"
        },
        {
         "name": "genus",
         "rawType": "object",
         "type": "string"
        },
        {
         "name": "species",
         "rawType": "object",
         "type": "string"
        },
        {
         "name": "vernacularName",
         "rawType": "object",
         "type": "string"
        },
        {
         "name": "issues",
         "rawType": "object",
         "type": "string"
        }
       ],
       "ref": "21837a4e-7afa-40b8-b056-459b11b7941d",
       "rows": [
        [
         "0",
         "Lagarostrobos franklinii",
         "(Hook.f.) Quinn",
         "https://id.biodiversity.org.au/node/apni/2892878",
         "species",
         "Plantae",
         "Charophyta",
         "Pinales",
         "Podocarpaceae",
         "Lagarostrobos",
         "Lagarostrobos franklinii",
         "Huon Pine",
         "noIssue"
        ],
        [
         "1",
         "Athrotaxis cupressoides",
         "D.Don",
         "https://id.biodiversity.org.au/node/apni/2909339",
         "species",
         "Plantae",
         "Charophyta",
         "Pinales",
         "Cupressaceae",
         "Athrotaxis",
         "Athrotaxis cupressoides",
         "Pencil Pine",
         "noIssue"
        ],
        [
         "2",
         "Athrotaxis selaginoides",
         "D.Don",
         "https://id.biodiversity.org.au/taxon/apni/51271090",
         "species",
         "Plantae",
         "Charophyta",
         "Pinales",
         "Cupressaceae",
         "Athrotaxis",
         "Athrotaxis selaginoides",
         "King Billy Pine",
         "noIssue"
        ],
        [
         "3",
         "Nothofagus gunnii",
         "(Hook.f.) Oerst.",
         "https://id.biodiversity.org.au/node/apni/7726150",
         "species",
         "Plantae",
         "Charophyta",
         "Fagales",
         "Nothofagaceae",
         "Nothofagus",
         "Nothofagus gunnii",
         "Tanglefoot",
         "noIssue"
        ],
        [
         "4",
         "Nothofagus cunninghamii",
         "(Hook.) Oerst.",
         "https://id.biodiversity.org.au/node/apni/7725767",
         "species",
         "Plantae",
         "Charophyta",
         "Fagales",
         "Nothofagaceae",
         "Nothofagus",
         "Nothofagus cunninghamii",
         "Myrtle Beech",
         "noIssue"
        ]
       ],
       "shape": {
        "columns": 12,
        "rows": 5
       }
      },
      "text/html": [
       "<div>\n",
       "<style scoped>\n",
       "    .dataframe tbody tr th:only-of-type {\n",
       "        vertical-align: middle;\n",
       "    }\n",
       "\n",
       "    .dataframe tbody tr th {\n",
       "        vertical-align: top;\n",
       "    }\n",
       "\n",
       "    .dataframe thead th {\n",
       "        text-align: right;\n",
       "    }\n",
       "</style>\n",
       "<table border=\"1\" class=\"dataframe\">\n",
       "  <thead>\n",
       "    <tr style=\"text-align: right;\">\n",
       "      <th></th>\n",
       "      <th>scientificName</th>\n",
       "      <th>scientificNameAuthorship</th>\n",
       "      <th>taxonConceptID</th>\n",
       "      <th>rank</th>\n",
       "      <th>kingdom</th>\n",
       "      <th>phylum</th>\n",
       "      <th>order</th>\n",
       "      <th>family</th>\n",
       "      <th>genus</th>\n",
       "      <th>species</th>\n",
       "      <th>vernacularName</th>\n",
       "      <th>issues</th>\n",
       "    </tr>\n",
       "  </thead>\n",
       "  <tbody>\n",
       "    <tr>\n",
       "      <th>0</th>\n",
       "      <td>Lagarostrobos franklinii</td>\n",
       "      <td>(Hook.f.) Quinn</td>\n",
       "      <td>https://id.biodiversity.org.au/node/apni/2892878</td>\n",
       "      <td>species</td>\n",
       "      <td>Plantae</td>\n",
       "      <td>Charophyta</td>\n",
       "      <td>Pinales</td>\n",
       "      <td>Podocarpaceae</td>\n",
       "      <td>Lagarostrobos</td>\n",
       "      <td>Lagarostrobos franklinii</td>\n",
       "      <td>Huon Pine</td>\n",
       "      <td>noIssue</td>\n",
       "    </tr>\n",
       "    <tr>\n",
       "      <th>1</th>\n",
       "      <td>Athrotaxis cupressoides</td>\n",
       "      <td>D.Don</td>\n",
       "      <td>https://id.biodiversity.org.au/node/apni/2909339</td>\n",
       "      <td>species</td>\n",
       "      <td>Plantae</td>\n",
       "      <td>Charophyta</td>\n",
       "      <td>Pinales</td>\n",
       "      <td>Cupressaceae</td>\n",
       "      <td>Athrotaxis</td>\n",
       "      <td>Athrotaxis cupressoides</td>\n",
       "      <td>Pencil Pine</td>\n",
       "      <td>noIssue</td>\n",
       "    </tr>\n",
       "    <tr>\n",
       "      <th>2</th>\n",
       "      <td>Athrotaxis selaginoides</td>\n",
       "      <td>D.Don</td>\n",
       "      <td>https://id.biodiversity.org.au/taxon/apni/5127...</td>\n",
       "      <td>species</td>\n",
       "      <td>Plantae</td>\n",
       "      <td>Charophyta</td>\n",
       "      <td>Pinales</td>\n",
       "      <td>Cupressaceae</td>\n",
       "      <td>Athrotaxis</td>\n",
       "      <td>Athrotaxis selaginoides</td>\n",
       "      <td>King Billy Pine</td>\n",
       "      <td>noIssue</td>\n",
       "    </tr>\n",
       "    <tr>\n",
       "      <th>3</th>\n",
       "      <td>Nothofagus gunnii</td>\n",
       "      <td>(Hook.f.) Oerst.</td>\n",
       "      <td>https://id.biodiversity.org.au/node/apni/7726150</td>\n",
       "      <td>species</td>\n",
       "      <td>Plantae</td>\n",
       "      <td>Charophyta</td>\n",
       "      <td>Fagales</td>\n",
       "      <td>Nothofagaceae</td>\n",
       "      <td>Nothofagus</td>\n",
       "      <td>Nothofagus gunnii</td>\n",
       "      <td>Tanglefoot</td>\n",
       "      <td>noIssue</td>\n",
       "    </tr>\n",
       "    <tr>\n",
       "      <th>4</th>\n",
       "      <td>Nothofagus cunninghamii</td>\n",
       "      <td>(Hook.) Oerst.</td>\n",
       "      <td>https://id.biodiversity.org.au/node/apni/7725767</td>\n",
       "      <td>species</td>\n",
       "      <td>Plantae</td>\n",
       "      <td>Charophyta</td>\n",
       "      <td>Fagales</td>\n",
       "      <td>Nothofagaceae</td>\n",
       "      <td>Nothofagus</td>\n",
       "      <td>Nothofagus cunninghamii</td>\n",
       "      <td>Myrtle Beech</td>\n",
       "      <td>noIssue</td>\n",
       "    </tr>\n",
       "  </tbody>\n",
       "</table>\n",
       "</div>"
      ],
      "text/plain": [
       "             scientificName scientificNameAuthorship  \\\n",
       "0  Lagarostrobos franklinii          (Hook.f.) Quinn   \n",
       "1   Athrotaxis cupressoides                    D.Don   \n",
       "2   Athrotaxis selaginoides                    D.Don   \n",
       "3         Nothofagus gunnii         (Hook.f.) Oerst.   \n",
       "4   Nothofagus cunninghamii           (Hook.) Oerst.   \n",
       "\n",
       "                                      taxonConceptID     rank  kingdom  \\\n",
       "0   https://id.biodiversity.org.au/node/apni/2892878  species  Plantae   \n",
       "1   https://id.biodiversity.org.au/node/apni/2909339  species  Plantae   \n",
       "2  https://id.biodiversity.org.au/taxon/apni/5127...  species  Plantae   \n",
       "3   https://id.biodiversity.org.au/node/apni/7726150  species  Plantae   \n",
       "4   https://id.biodiversity.org.au/node/apni/7725767  species  Plantae   \n",
       "\n",
       "       phylum    order         family          genus  \\\n",
       "0  Charophyta  Pinales  Podocarpaceae  Lagarostrobos   \n",
       "1  Charophyta  Pinales   Cupressaceae     Athrotaxis   \n",
       "2  Charophyta  Pinales   Cupressaceae     Athrotaxis   \n",
       "3  Charophyta  Fagales  Nothofagaceae     Nothofagus   \n",
       "4  Charophyta  Fagales  Nothofagaceae     Nothofagus   \n",
       "\n",
       "                    species   vernacularName   issues  \n",
       "0  Lagarostrobos franklinii        Huon Pine  noIssue  \n",
       "1   Athrotaxis cupressoides      Pencil Pine  noIssue  \n",
       "2   Athrotaxis selaginoides  King Billy Pine  noIssue  \n",
       "3         Nothofagus gunnii       Tanglefoot  noIssue  \n",
       "4   Nothofagus cunninghamii     Myrtle Beech  noIssue  "
      ]
     },
     "execution_count": 20,
     "metadata": {},
     "output_type": "execute_result"
    }
   ],
   "source": [
    "target_species = [\n",
    "    \"Lagarostrobos franklinii\",\n",
    "    \"Athrotaxis cupressoides\",\n",
    "    \"Athrotaxis selaginoides\",\n",
    "    \"Nothofagus gunnii\",\n",
    "    \"Nothofagus cunninghamii\",\n",
    "]\n",
    "\n",
    "galah.search_taxa(taxa=target_species)\n"
   ]
  },
  {
   "cell_type": "code",
   "execution_count": 21,
   "metadata": {},
   "outputs": [],
   "source": [
    "occurrences = galah.atlas_occurrences(\n",
    "    taxa=target_species,\n",
    ")\n",
    "occurrences = occurrences.dropna(subset=[\"decimalLongitude\", \"decimalLatitude\"])"
   ]
  },
  {
   "cell_type": "code",
   "execution_count": 22,
   "metadata": {},
   "outputs": [],
   "source": [
    "occurrences_gdf = gpd.GeoDataFrame(\n",
    "    occurrences,\n",
    "    geometry=gpd.points_from_xy(\n",
    "        occurrences[\"decimalLongitude\"], occurrences[\"decimalLatitude\"]\n",
    "    ),\n",
    "    crs=\"EPSG:4326\",\n",
    ")\n",
    "occurrences_gdf = occurrences_gdf.to_crs(\"EPSG:7855\")"
   ]
  },
  {
   "cell_type": "code",
   "execution_count": 23,
   "metadata": {},
   "outputs": [
    {
     "name": "stdout",
     "output_type": "stream",
     "text": [
      "Total records: 12881\n",
      "Records in Tasmania: 10229\n"
     ]
    }
   ],
   "source": [
    "# Read in Tasmania boundary file\n",
    "tasmania = gpd.read_file(Path.cwd().parent / \"data/vector/tasmania_boundary.geojson\")\n",
    "\n",
    "if tasmania.crs != occurrences_gdf.crs:\n",
    "    tasmania = tasmania.to_crs(occurrences_gdf.crs)\n",
    "\n",
    "tas_occurrences = gpd.sjoin(\n",
    "    occurrences_gdf, tasmania, how=\"inner\", predicate=\"intersects\"\n",
    ")\n",
    "\n",
    "\n",
    "print(f\"Total records: {len(occurrences_gdf)}\")\n",
    "print(f\"Records in Tasmania: {len(tas_occurrences)}\")\n"
   ]
  },
  {
   "cell_type": "code",
   "execution_count": 24,
   "metadata": {},
   "outputs": [
    {
     "data": {
      "text/plain": [
       "<matplotlib.legend.Legend at 0x17fa9efd0>"
      ]
     },
     "execution_count": 24,
     "metadata": {},
     "output_type": "execute_result"
    },
    {
     "data": {
      "image/png": "[encoded data removed]",
      "text/plain": [
       "<Figure size 640x480 with 1 Axes>"
      ]
     },
     "metadata": {},
     "output_type": "display_data"
    }
   ],
   "source": [
    "base = tasmania.plot(\n",
    "    color=\"white\",\n",
    "    edgecolor=\"black\",\n",
    ")\n",
    "tas_occurrences.plot(\n",
    "    ax=base,\n",
    "    color=\"red\",\n",
    "    markersize=1,\n",
    "    label=\"Occurrences\",\n",
    ")\n",
    "base.set_title(\"Occurrences of Target Species in Tasmania\")\n",
    "base.legend()\n"
   ]
  },
  {
   "cell_type": "code",
   "execution_count": 25,
   "metadata": {},
   "outputs": [],
   "source": [
    "tas_occurrences.to_file(\n",
    "    Path.cwd().parent / \"data/vector/ala_occurences.geojson\", driver=\"GeoJSON\"\n",
    ")"
   ]
  }
 ],
 "metadata": {
  "kernelspec": {
   "display_name": "default",
   "language": "python",
   "name": "python3"
  },
  "language_info": {
   "codemirror_mode": {
    "name": "ipython",
    "version": 3
   },
   "file_extension": ".py",
   "mimetype": "text/x-python",
   "name": "python",
   "nbconvert_exporter": "python",
   "pygments_lexer": "ipython3",
   "version": "3.13.3"
  }
 },
 "nbformat": 4,
 "nbformat_minor": 2
}
