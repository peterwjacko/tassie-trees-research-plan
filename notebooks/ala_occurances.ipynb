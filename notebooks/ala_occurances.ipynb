{
 "cells": [
  {
   "cell_type": "code",
   "execution_count": null,
   "metadata": {},
   "outputs": [],
   "source": [
    "import galah\n",
    "import geopandas as gpd\n"
   ]
  },
  {
   "cell_type": "code",
   "execution_count": null,
   "metadata": {},
   "outputs": [],
   "source": [
    "galah.galah_config(\n",
    "    email=\"ala.italics539@simplelogin.com\",\n",
    "    atlas=\"Australia\",\n",
    ")"
   ]
  },
  {
   "cell_type": "code",
   "execution_count": null,
   "metadata": {},
   "outputs": [
    {
     "data": {
      "text/html": [
       "<div>\n",
       "<style scoped>\n",
       "    .dataframe tbody tr th:only-of-type {\n",
       "        vertical-align: middle;\n",
       "    }\n",
       "\n",
       "    .dataframe tbody tr th {\n",
       "        vertical-align: top;\n",
       "    }\n",
       "\n",
       "    .dataframe thead th {\n",
       "        text-align: right;\n",
       "    }\n",
       "</style>\n",
       "<table border=\"1\" class=\"dataframe\">\n",
       "  <thead>\n",
       "    <tr style=\"text-align: right;\">\n",
       "      <th></th>\n",
       "      <th>scientificName</th>\n",
       "      <th>scientificNameAuthorship</th>\n",
       "      <th>taxonConceptID</th>\n",
       "      <th>rank</th>\n",
       "      <th>kingdom</th>\n",
       "      <th>phylum</th>\n",
       "      <th>order</th>\n",
       "      <th>family</th>\n",
       "      <th>genus</th>\n",
       "      <th>species</th>\n",
       "      <th>vernacularName</th>\n",
       "      <th>issues</th>\n",
       "    </tr>\n",
       "  </thead>\n",
       "  <tbody>\n",
       "    <tr>\n",
       "      <th>0</th>\n",
       "      <td>Lagarostrobos franklinii</td>\n",
       "      <td>(Hook.f.) Quinn</td>\n",
       "      <td>https://id.biodiversity.org.au/node/apni/2892878</td>\n",
       "      <td>species</td>\n",
       "      <td>Plantae</td>\n",
       "      <td>Charophyta</td>\n",
       "      <td>Pinales</td>\n",
       "      <td>Podocarpaceae</td>\n",
       "      <td>Lagarostrobos</td>\n",
       "      <td>Lagarostrobos franklinii</td>\n",
       "      <td>Huon Pine</td>\n",
       "      <td>noIssue</td>\n",
       "    </tr>\n",
       "    <tr>\n",
       "      <th>1</th>\n",
       "      <td>Athrotaxis cupressoides</td>\n",
       "      <td>D.Don</td>\n",
       "      <td>https://id.biodiversity.org.au/node/apni/2909339</td>\n",
       "      <td>species</td>\n",
       "      <td>Plantae</td>\n",
       "      <td>Charophyta</td>\n",
       "      <td>Pinales</td>\n",
       "      <td>Cupressaceae</td>\n",
       "      <td>Athrotaxis</td>\n",
       "      <td>Athrotaxis cupressoides</td>\n",
       "      <td>Pencil Pine</td>\n",
       "      <td>noIssue</td>\n",
       "    </tr>\n",
       "    <tr>\n",
       "      <th>2</th>\n",
       "      <td>Athrotaxis selaginoides</td>\n",
       "      <td>D.Don</td>\n",
       "      <td>https://id.biodiversity.org.au/taxon/apni/5127...</td>\n",
       "      <td>species</td>\n",
       "      <td>Plantae</td>\n",
       "      <td>Charophyta</td>\n",
       "      <td>Pinales</td>\n",
       "      <td>Cupressaceae</td>\n",
       "      <td>Athrotaxis</td>\n",
       "      <td>Athrotaxis selaginoides</td>\n",
       "      <td>King Billy Pine</td>\n",
       "      <td>noIssue</td>\n",
       "    </tr>\n",
       "    <tr>\n",
       "      <th>3</th>\n",
       "      <td>Nothofagus gunnii</td>\n",
       "      <td>(Hook.f.) Oerst.</td>\n",
       "      <td>https://id.biodiversity.org.au/node/apni/7726150</td>\n",
       "      <td>species</td>\n",
       "      <td>Plantae</td>\n",
       "      <td>Charophyta</td>\n",
       "      <td>Fagales</td>\n",
       "      <td>Nothofagaceae</td>\n",
       "      <td>Nothofagus</td>\n",
       "      <td>Nothofagus gunnii</td>\n",
       "      <td>Tanglefoot</td>\n",
       "      <td>noIssue</td>\n",
       "    </tr>\n",
       "  </tbody>\n",
       "</table>\n",
       "</div>"
      ],
      "text/plain": [
       "             scientificName scientificNameAuthorship  \\\n",
       "0  Lagarostrobos franklinii          (Hook.f.) Quinn   \n",
       "1   Athrotaxis cupressoides                    D.Don   \n",
       "2   Athrotaxis selaginoides                    D.Don   \n",
       "3         Nothofagus gunnii         (Hook.f.) Oerst.   \n",
       "\n",
       "                                      taxonConceptID     rank  kingdom  \\\n",
       "0   https://id.biodiversity.org.au/node/apni/2892878  species  Plantae   \n",
       "1   https://id.biodiversity.org.au/node/apni/2909339  species  Plantae   \n",
       "2  https://id.biodiversity.org.au/taxon/apni/5127...  species  Plantae   \n",
       "3   https://id.biodiversity.org.au/node/apni/7726150  species  Plantae   \n",
       "\n",
       "       phylum    order         family          genus  \\\n",
       "0  Charophyta  Pinales  Podocarpaceae  Lagarostrobos   \n",
       "1  Charophyta  Pinales   Cupressaceae     Athrotaxis   \n",
       "2  Charophyta  Pinales   Cupressaceae     Athrotaxis   \n",
       "3  Charophyta  Fagales  Nothofagaceae     Nothofagus   \n",
       "\n",
       "                    species   vernacularName   issues  \n",
       "0  Lagarostrobos franklinii        Huon Pine  noIssue  \n",
       "1   Athrotaxis cupressoides      Pencil Pine  noIssue  \n",
       "2   Athrotaxis selaginoides  King Billy Pine  noIssue  \n",
       "3         Nothofagus gunnii       Tanglefoot  noIssue  "
      ]
     },
     "execution_count": 7,
     "metadata": {},
     "output_type": "execute_result"
    }
   ],
   "source": [
    "target_species = [\n",
    "    \"Lagarostrobos franklinii\",\n",
    "    \"Athrotaxis cupressoides\",\n",
    "    \"Athrotaxis selaginoides\",\n",
    "    \"Nothofagus gunnii\",\n",
    "]\n",
    "\n",
    "galah.search_taxa(taxa=target_species)\n"
   ]
  },
  {
   "cell_type": "code",
   "execution_count": null,
   "metadata": {},
   "outputs": [],
   "source": [
    "target_occurances = galah.atlas_occurrences(\n",
    "    taxa=target_species,\n",
    ")\n",
    "target_occ_clean = target_occurances.dropna(\n",
    "    subset=[\"decimalLongitude\", \"decimalLatitude\"]\n",
    ")"
   ]
  },
  {
   "cell_type": "code",
   "execution_count": 12,
   "metadata": {},
   "outputs": [],
   "source": [
    "target_gdf = gpd.GeoDataFrame(\n",
    "    target_occ_clean,\n",
    "    geometry=gpd.points_from_xy(\n",
    "        target_occ_clean[\"decimalLongitude\"], target_occ_clean[\"decimalLatitude\"]\n",
    "    ),\n",
    "    crs=\"EPSG:4326\",\n",
    ")\n",
    "target_gdf = target_gdf.to_crs(\"EPSG:7855\")"
   ]
  },
  {
   "cell_type": "code",
   "execution_count": 15,
   "metadata": {},
   "outputs": [],
   "source": [
    "target_gdf.to_file(\"target_occurences_ala.geojson\", driver=\"GeoJSON\")"
   ]
  }
 ],
 "metadata": {
  "kernelspec": {
   "display_name": "default",
   "language": "python",
   "name": "python3"
  },
  "language_info": {
   "codemirror_mode": {
    "name": "ipython",
    "version": 3
   },
   "file_extension": ".py",
   "mimetype": "text/x-python",
   "name": "python",
   "nbconvert_exporter": "python",
   "pygments_lexer": "ipython3",
   "version": "3.1.undefined"
  }
 },
 "nbformat": 4,
 "nbformat_minor": 2
}
