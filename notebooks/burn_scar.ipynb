{
 "cells": [
  {
   "cell_type": "markdown",
   "id": "1e7ea5f3",
   "metadata": {},
   "source": [
    "---\n",
    "title: Sentinel-2 burn scar analysis\n",
    "---\n",
    "\n",
    "# Sentinel-2 burn scar analysis\n",
    "\n",
    "> To Do:\n",
    "> - [ ] Convert script to notebook\n",
    "> - [ ] Integrate outputs/figures in document"
   ]
  },
  {
   "cell_type": "code",
   "execution_count": 1,
   "id": "842f4fa9",
   "metadata": {},
   "outputs": [],
   "source": [
    "import geopandas as gpd\n",
    "import rasterio as rio\n",
    "from pathlib import Path\n",
    "\n",
    "\n",
    "import boto3\n",
    "import pystac_client\n",
    "\n",
    "from rasterio.mask import mask\n",
    "import datetime\n"
   ]
  },
  {
   "cell_type": "code",
   "execution_count": null,
   "id": "358e3155",
   "metadata": {},
   "outputs": [],
   "source": [
    "# Define search parameters\n",
    "aoi_path = Path(\"data/vector/proposed_study_sites.geojson\")\n",
    "start_date = \"2025-01-01\"\n",
    "end_date = \"2025-03-31\"\n",
    "search_range = 7\n",
    "start_datetime = datetime.datetime.strptime(start_date, \"%Y-%m-%d\")\n",
    "end_datetime = datetime.datetime.strptime(end_date, \"%Y-%m-%d\")\n",
    "\n",
    "# Calculate date ranges using search_range (in days)\n",
    "start_range_min = (start_datetime - datetime.timedelta(days=search_range)).strftime(\n",
    "    \"%Y-%m-%d\"\n",
    ")\n",
    "start_range_max = (start_datetime + datetime.timedelta(days=search_range)).strftime(\n",
    "    \"%Y-%m-%d\"\n",
    ")\n",
    "end_range_min = (end_datetime - datetime.timedelta(days=search_range)).strftime(\n",
    "    \"%Y-%m-%d\"\n",
    ")\n",
    "end_range_max = (end_datetime + datetime.timedelta(days=search_range)).strftime(\n",
    "    \"%Y-%m-%d\"\n",
    ")\n",
    "\n",
    "time_range = [start_range_min, end_range_max]\n",
    "collections = [\"ga_s2am_ard_3\", \"ga_s2bm_ard_3\", \"ga_s2cm_ard_3\"]\n",
    "cloud_cover_threshold = 10\n",
    "stac_api_url = \"https://explorer.dea.ga.gov.au/stac/\""
   ]
  },
  {
   "cell_type": "code",
   "execution_count": null,
   "id": "bfa24fb8",
   "metadata": {},
   "outputs": [],
   "source": [
    "aoi = gpd.read_file(aoi_path)\n",
    "\n",
    "if aoi.crs != \"EPSG:4326\":\n",
    "    aoi = aoi.to_crs(\"EPSG:4326\")\n",
    "\n",
    "geom = aoi.geometry.values[0].__geo_interface__\n",
    "\n",
    "# Create a STAC client and search for imagery\n",
    "catalog = pystac_client.Client.open(stac_api_url)\n",
    "search = catalog.search(\n",
    "    collections=collections,\n",
    "    datetime=f\"{time_range[0]}/{time_range[1]}\",\n",
    "    intersects=geom,\n",
    "    max_items=100,\n",
    ")\n",
    "\n",
    "# Get all items\n",
    "items = list(search.get_all_items())\n",
    "print(f\"Found {len(items)} items before filtering\")\n",
    "\n",
    "# Filter by cloud cover\n",
    "filtered_items = []\n",
    "for item in items:\n",
    "    # Try different cloud cover property names\n",
    "    cloud_cover = None\n",
    "    for prop_name in [\"eo:cloud_cover\", \"cloud_cover\", \"cloudy_pixel_percentage\"]:\n",
    "        if prop_name in item.properties:\n",
    "            cloud_cover = item.properties[prop_name]\n",
    "            break\n",
    "\n",
    "    # Add to filtered list if below threshold\n",
    "    if cloud_cover is not None and cloud_cover <= cloud_cover_threshold:\n",
    "        filtered_items.append(item)\n",
    "\n",
    "print(f\"Found {len(filtered_items)} items with cloud cover <= {cloud_cover_threshold}%\")\n"
   ]
  },
  {
   "cell_type": "code",
   "execution_count": null,
   "id": "d8904ca4",
   "metadata": {},
   "outputs": [],
   "source": [
    "# TODO: download all assets for each item\n",
    "# TODO: calculate NBR for each item\n",
    "# TODO: calculate dNBR for period\n",
    "# TODO: apply USGS thresholds for burn severity\n",
    "# TODO: save results to GeoTIFF\n",
    "# TODO: convert to vector format and calculate area of burn severity classes\n",
    "# TODO: make folium map with burn severity classes and study area boundary"
   ]
  }
 ],
 "metadata": {
  "kernelspec": {
   "display_name": "default",
   "language": "python",
   "name": "python3"
  },
  "language_info": {
   "codemirror_mode": {
    "name": "ipython",
    "version": 3
   },
   "file_extension": ".py",
   "mimetype": "text/x-python",
   "name": "python",
   "nbconvert_exporter": "python",
   "pygments_lexer": "ipython3",
   "version": "3.13.3"
  }
 },
 "nbformat": 4,
 "nbformat_minor": 5
}
