{
 "cells": [
  {
   "cell_type": "markdown",
   "id": "1e7ea5f3",
   "metadata": {},
   "source": [
    "---\n",
    "title: Sentinel-2 burn scar analysis\n",
    "---\n",
    "\n",
    "# Sentinel-2 burn scar analysis\n",
    "\n",
    "> To Do:\n",
    "> - [ ] Convert script to notebook\n",
    "> - [ ] Integrate outputs/figures in document"
   ]
  }
 ],
 "metadata": {
  "language_info": {
   "name": "python"
  }
 },
 "nbformat": 4,
 "nbformat_minor": 5
}
